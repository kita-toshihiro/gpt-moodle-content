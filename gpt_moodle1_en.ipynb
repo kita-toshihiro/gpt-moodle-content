{
  "cells": [
    {
      "cell_type": "markdown",
      "source": [],
      "metadata": {
        "id": "bZ-jYmljtYDi"
      },
      "id": "bZ-jYmljtYDi"
    },
    {
      "cell_type": "markdown",
      "source": [
        "## Moodle quiz question generation using GPT-3.5\n",
        "\n",
        "Run the codes of the following cells from top to bottom, and if you find the output of any cell contains something wrong, run that cell again (= regeneration) and also run the subsequent cells.\n",
        "\n",
        "A Moodle XML file that can be imported at Moodle question bank is created."
      ],
      "metadata": {
        "id": "NEAR-mxnfQSV"
      },
      "id": "NEAR-mxnfQSV"
    },
    {
      "cell_type": "code",
      "execution_count": 1,
      "id": "4790db93-6943-4a4a-9ca8-3eeae24238f7",
      "metadata": {
        "colab": {
          "base_uri": "https://localhost:8080/"
        },
        "id": "4790db93-6943-4a4a-9ca8-3eeae24238f7",
        "outputId": "d47b305d-861d-4899-e8ae-38dac28d0092"
      },
      "outputs": [
        {
          "output_type": "stream",
          "name": "stdout",
          "text": [
            "Collecting openai\n",
            "  Downloading openai-0.27.8-py3-none-any.whl (73 kB)\n",
            "\u001b[?25l     \u001b[90m━━━━━━━━━━━━━━━━━━━━━━━━━━━━━━━━━━━━━━━━\u001b[0m \u001b[32m0.0/73.6 kB\u001b[0m \u001b[31m?\u001b[0m eta \u001b[36m-:--:--\u001b[0m\r\u001b[2K     \u001b[90m━━━━━━━━━━━━━━━━━━━━━━━━━━━━━━━━━━━━━━━━\u001b[0m \u001b[32m73.6/73.6 kB\u001b[0m \u001b[31m5.6 MB/s\u001b[0m eta \u001b[36m0:00:00\u001b[0m\n",
            "\u001b[?25hRequirement already satisfied: requests>=2.20 in /usr/local/lib/python3.10/dist-packages (from openai) (2.27.1)\n",
            "Requirement already satisfied: tqdm in /usr/local/lib/python3.10/dist-packages (from openai) (4.65.0)\n",
            "Requirement already satisfied: aiohttp in /usr/local/lib/python3.10/dist-packages (from openai) (3.8.4)\n",
            "Requirement already satisfied: urllib3<1.27,>=1.21.1 in /usr/local/lib/python3.10/dist-packages (from requests>=2.20->openai) (1.26.16)\n",
            "Requirement already satisfied: certifi>=2017.4.17 in /usr/local/lib/python3.10/dist-packages (from requests>=2.20->openai) (2023.5.7)\n",
            "Requirement already satisfied: charset-normalizer~=2.0.0 in /usr/local/lib/python3.10/dist-packages (from requests>=2.20->openai) (2.0.12)\n",
            "Requirement already satisfied: idna<4,>=2.5 in /usr/local/lib/python3.10/dist-packages (from requests>=2.20->openai) (3.4)\n",
            "Requirement already satisfied: attrs>=17.3.0 in /usr/local/lib/python3.10/dist-packages (from aiohttp->openai) (23.1.0)\n",
            "Requirement already satisfied: multidict<7.0,>=4.5 in /usr/local/lib/python3.10/dist-packages (from aiohttp->openai) (6.0.4)\n",
            "Requirement already satisfied: async-timeout<5.0,>=4.0.0a3 in /usr/local/lib/python3.10/dist-packages (from aiohttp->openai) (4.0.2)\n",
            "Requirement already satisfied: yarl<2.0,>=1.0 in /usr/local/lib/python3.10/dist-packages (from aiohttp->openai) (1.9.2)\n",
            "Requirement already satisfied: frozenlist>=1.1.1 in /usr/local/lib/python3.10/dist-packages (from aiohttp->openai) (1.3.3)\n",
            "Requirement already satisfied: aiosignal>=1.1.2 in /usr/local/lib/python3.10/dist-packages (from aiohttp->openai) (1.3.1)\n",
            "Installing collected packages: openai\n",
            "Successfully installed openai-0.27.8\n"
          ]
        }
      ],
      "source": [
        "# Only if you have not installed openai python library\n",
        "! pip install openai"
      ]
    },
    {
      "cell_type": "code",
      "execution_count": 8,
      "id": "6ba7f222-3712-488e-b5e8-a19c5db1fde8",
      "metadata": {
        "tags": [],
        "colab": {
          "base_uri": "https://localhost:8080/"
        },
        "id": "6ba7f222-3712-488e-b5e8-a19c5db1fde8",
        "outputId": "d41aed62-27b3-43ac-dba2-fdb65a3914bd"
      },
      "outputs": [
        {
          "name": "stdout",
          "output_type": "stream",
          "text": [
            "Quiz about what? Japanese history in Meiji era\n"
          ]
        }
      ],
      "source": [
        "# Input a topic keyword on which you want to create quiz questions\n",
        "# such as \"Japanese history in Meiji era\" or \"Black–Scholes equation\"\n",
        "data1 = input(\"Quiz about what? \")"
      ]
    },
    {
      "cell_type": "code",
      "execution_count": null,
      "id": "f3833624-7e3f-4d8d-8131-065a9835c0a2",
      "metadata": {
        "tags": [],
        "id": "f3833624-7e3f-4d8d-8131-065a9835c0a2"
      },
      "outputs": [],
      "source": [
        "import openai\n",
        "openai.api_key = input(\"openai API key:\")\n",
        "model =\"gpt-3.5-turbo-0613\"\n",
        "# model =\"gpt-3.5-turbo\""
      ]
    },
    {
      "cell_type": "code",
      "execution_count": 10,
      "id": "40861cbc-f468-4c26-b55d-8c465a3146e7",
      "metadata": {
        "tags": [],
        "colab": {
          "base_uri": "https://localhost:8080/"
        },
        "id": "40861cbc-f468-4c26-b55d-8c465a3146e7",
        "outputId": "c99a35df-20ea-433c-ce0b-2e050793c50c"
      },
      "outputs": [
        {
          "output_type": "stream",
          "name": "stdout",
          "text": [
            "1. What was the main reason for the Meiji Restoration in Japan?\n",
            "\n",
            "a) To establish a communist government\n",
            "b) To restore power to the Tokugawa shogunate\n",
            "c) To modernize Japanese society and improve international relations\n",
            "d) To dissolve the constitutional monarchy\n",
            "e) To promote isolationism and close off Japan to foreign influences\n",
            "\n",
            "Correct answer: c) To modernize Japanese society and improve international relations\n",
            "\n",
            "2. What role did Emperor Meiji play during the Meiji era in Japan?\n",
            "\n",
            "a) He actively ruled the country and made all political decisions\n",
            "b) He was a ceremonial figurehead with no political power\n",
            "c) He led a rebellion against the shogunate\n",
            "d) He implemented a policy of strict isolationism\n",
            "e) He advocated for the restoration of the feudal system\n",
            "\n",
            "Correct answer: b) He was a ceremonial figurehead with no political power\n"
          ]
        }
      ],
      "source": [
        "prstr1 = \"Create two multiple choice questions about \" + data1\n",
        "tmp = '''\n",
        "Please meet the following conditions.\n",
        "・There are 5 choices\n",
        "・Choices are written in simple style\n",
        "・Indicates which option is correct\n",
        "'''\n",
        "prstr1 += tmp\n",
        "response = openai.ChatCompletion.create(\n",
        "    model = model,\n",
        "    messages=[\n",
        "        {\"role\": \"user\", \"content\": prstr1},\n",
        "    ],\n",
        ")\n",
        "res1 = response.choices[0][\"message\"][\"content\"].strip()\n",
        "print(res1)"
      ]
    },
    {
      "cell_type": "code",
      "execution_count": 14,
      "id": "30294bf4-80fe-4f59-9660-ae7c6bddb68a",
      "metadata": {
        "tags": [],
        "colab": {
          "base_uri": "https://localhost:8080/"
        },
        "id": "30294bf4-80fe-4f59-9660-ae7c6bddb68a",
        "outputId": "7d8624d7-8476-4725-aabe-6a5ec33b846e"
      },
      "outputs": [
        {
          "output_type": "stream",
          "name": "stdout",
          "text": [
            "<question type=\"multichoice\">\n",
            "    <name>\n",
            "        <text>Meiji Restoration</text>\n",
            "    </name>\n",
            "    <questiontext format=\"html\">\n",
            "        <text><![CDATA[What was the main reason for the Meiji Restoration in Japan?]]></text>\n",
            "    </questiontext>\n",
            "    <shuffleanswers>true</shuffleanswers>\n",
            "    <answer fraction=\"0\">\n",
            "        <text>To establish a communist government</text>\n",
            "    </answer>\n",
            "    <answer fraction=\"0\">\n",
            "        <text>To restore power to the Tokugawa shogunate</text>\n",
            "    </answer>\n",
            "    <answer fraction=\"100\">\n",
            "        <text>To modernize Japanese society and improve international relations</text>\n",
            "    </answer>\n",
            "    <answer fraction=\"0\">\n",
            "        <text>To dissolve the constitutional monarchy</text>\n",
            "    </answer>\n",
            "    <answer fraction=\"0\">\n",
            "        <text>To promote isolationism and close off Japan to foreign influences</text>\n",
            "    </answer>\n",
            "    <generalfeedback>\n",
            "        <text><![CDATA[The Meiji Restoration aimed to modernize Japanese society and improve international relations through various reforms.]]></text>\n",
            "    </generalfeedback>\n",
            "</question>\n",
            "\n",
            "<question type=\"multichoice\">\n",
            "    <name>\n",
            "        <text>Role of Emperor Meiji</text>\n",
            "    </name>\n",
            "    <questiontext format=\"html\">\n",
            "        <text><![CDATA[What role did Emperor Meiji play during the Meiji era in Japan?]]></text>\n",
            "    </questiontext>\n",
            "    <shuffleanswers>true</shuffleanswers>\n",
            "    <answer fraction=\"0\">\n",
            "        <text>He actively ruled the country and made all political decisions</text>\n",
            "    </answer>\n",
            "    <answer fraction=\"100\">\n",
            "        <text>He was a ceremonial figurehead with no political power</text>\n",
            "    </answer>\n",
            "    <answer fraction=\"0\">\n",
            "        <text>He led a rebellion against the shogunate</text>\n",
            "    </answer>\n",
            "    <answer fraction=\"0\">\n",
            "        <text>He implemented a policy of strict isolationism</text>\n",
            "    </answer>\n",
            "    <answer fraction=\"0\">\n",
            "        <text>He advocated for the restoration of the feudal system</text>\n",
            "    </answer>\n",
            "    <generalfeedback>\n",
            "        <text><![CDATA[Emperor Meiji served as a ceremonial figurehead during the Meiji era, while the actual political power was held by the government and various leaders.]]></text>\n",
            "    </generalfeedback>\n",
            "</question>\n"
          ]
        }
      ],
      "source": [
        "prstr2 = '''\n",
        "Please output all current questions as a series of data (without separating them by question)\n",
        "in Moodle XML format like the following.\n",
        "\n",
        "  <question type=\"multichoice\">\n",
        "    <name>\n",
        "      <text>question summary</text>\n",
        "    </name>\n",
        "    <questiontext format=\"html\">\n",
        "      <text><![CDATA[Write your question here.]]></text>\n",
        "    </questiontext>\n",
        "    <shuffleanswers>true</shuffleanswers>\n",
        "    <answer fraction=\"0\">\n",
        "      <text>incorrect answer</text>\n",
        "    </answer>\n",
        "    <answer fraction=\"100\">\n",
        "      <text>correct answer</text>\n",
        "    </answer>\n",
        "    <answer fraction=\"0\">\n",
        "      <text>incorrect answer</text>\n",
        "    </answer>\n",
        "    <answer fraction=\"0\">\n",
        "      <text>incorrect answer</text>\n",
        "    </answer>\n",
        "    <generalfeedback>\n",
        "      <text><![CDATA[general feedback]]></text>\n",
        "    </generalfeedback>\n",
        "  </question>\n",
        "'''\n",
        "\n",
        "response = openai.ChatCompletion.create(\n",
        "    model = model,\n",
        "    messages=[\n",
        "        {\"role\": \"user\", \"content\": prstr1},\n",
        "        {\"role\": \"assistant\", \"content\": res1},\n",
        "        {\"role\": \"user\", \"content\": prstr2},\n",
        "    ],\n",
        ")\n",
        "\n",
        "res2 = response.choices[0][\"message\"][\"content\"].strip()\n",
        "print(res2)"
      ]
    },
    {
      "cell_type": "code",
      "execution_count": 16,
      "id": "3f0772c7-648e-4189-bbc8-ef8c22868d54",
      "metadata": {
        "tags": [],
        "colab": {
          "base_uri": "https://localhost:8080/"
        },
        "id": "3f0772c7-648e-4189-bbc8-ef8c22868d54",
        "outputId": "a51ba829-072a-4ba2-c98f-d16360d582cf"
      },
      "outputs": [
        {
          "output_type": "stream",
          "name": "stdout",
          "text": [
            "<quiz>\n",
            "    \n",
            "<question type=\"multichoice\">\n",
            "    <name>\n",
            "        <text>Reason for Meiji Restoration</text>\n",
            "    </name>\n",
            "    <questiontext format=\"html\">\n",
            "        <text><![CDATA[What was the main reason for the Meiji Restoration in Japan?]]></text>\n",
            "    </questiontext>\n",
            "    <shuffleanswers>true</shuffleanswers>\n",
            "    <answer fraction=\"0\">\n",
            "        <text>To establish a communist government</text>\n",
            "    </answer>\n",
            "    <answer fraction=\"0\">\n",
            "        <text>To restore power to the Tokugawa shogunate</text>\n",
            "    </answer>\n",
            "    <answer fraction=\"100\">\n",
            "        <text>To modernize Japanese society and improve international relations</text>\n",
            "    </answer>\n",
            "    <answer fraction=\"0\">\n",
            "        <text>To dissolve the constitutional monarchy</text>\n",
            "    </answer>\n",
            "    <answer fraction=\"0\">\n",
            "        <text>To promote isolationism and close off Japan to foreign influences</text>\n",
            "    </answer>\n",
            "    <generalfeedback>\n",
            "        <text><![CDATA[The Meiji Restoration aimed to modernize Japanese society and improve international relations through various reforms. For more information, you can refer to the <a href=\"https://en.wikipedia.org/wiki/Meiji_Restoration\" target=\"_BLANK\">Wikipedia page</a>.]]></text>\n",
            "    </generalfeedback>\n",
            "</question>\n",
            "\n",
            "<question type=\"multichoice\">\n",
            "    <name>\n",
            "        <text>Role of Emperor Meiji</text>\n",
            "    </name>\n",
            "    <questiontext format=\"html\">\n",
            "        <text><![CDATA[What role did Emperor Meiji play during the Meiji era in Japan?]]></text>\n",
            "    </questiontext>\n",
            "    <shuffleanswers>true</shuffleanswers>\n",
            "    <answer fraction=\"0\">\n",
            "        <text>He actively ruled the country and made all political decisions</text>\n",
            "    </answer>\n",
            "    <answer fraction=\"100\">\n",
            "        <text>He was a ceremonial figurehead with no political power</text>\n",
            "    </answer>\n",
            "    <answer fraction=\"0\">\n",
            "        <text>He led a rebellion against the shogunate</text>\n",
            "    </answer>\n",
            "    <answer fraction=\"0\">\n",
            "        <text>He implemented a policy of strict isolationism</text>\n",
            "    </answer>\n",
            "    <answer fraction=\"0\">\n",
            "        <text>He advocated for the restoration of the feudal system</text>\n",
            "    </answer>\n",
            "    <generalfeedback>\n",
            "        <text><![CDATA[Emperor Meiji served as a ceremonial figurehead during the Meiji era, while the actual political power was held by the government and various leaders. For more information, you can refer to the <a href=\"https://en.wikipedia.org/wiki/Emperor_Meiji\" target=\"_BLANK\">Wikipedia page</a>.]]></text>\n",
            "    </generalfeedback>\n",
            "</question>\n",
            "    \n",
            "</quiz>\n"
          ]
        }
      ],
      "source": [
        "prstr3 = '''\n",
        "Please correct as follows.\n",
        "・Start with <quiz>\n",
        "・If there is an option number, delete it\n",
        "・The score for the correct answer option is 100.\n",
        "・The question name (between <name><text> and </text></name>) should be several words of summary of the question text.\n",
        "・Write only one for each question, after </questiontext>, about 50 words of \"general feedback\" enclosed in <generalfeedback><text> and </text></generalfeedback>\n",
        "・\"General feedback\" includes links to reference Wikipedia pages with target=_BLANK\n",
        "・Specify <shuffleanswers>true</shuffleanswers> for each question\n",
        "・[CDATA[ corresponding to ]] is written properly\n",
        "'''\n",
        "\n",
        "response = openai.ChatCompletion.create(\n",
        "    model = model,\n",
        "    messages=[\n",
        "        {\"role\": \"user\", \"content\": prstr2},\n",
        "        {\"role\": \"assistant\", \"content\": res2},\n",
        "        {\"role\": \"user\", \"content\": prstr3},\n",
        "    ],\n",
        ")\n",
        "res3 = response.choices[0][\"message\"][\"content\"].strip()\n",
        "print(res3)\n",
        "\n",
        "with open('moodle-quiz-questions1.xml', 'w') as f:\n",
        "    print(res3, file=f)"
      ]
    }
  ],
  "metadata": {
    "kernelspec": {
      "display_name": "Python 3 (ipykernel)",
      "language": "python",
      "name": "python3"
    },
    "language_info": {
      "codemirror_mode": {
        "name": "ipython",
        "version": 3
      },
      "file_extension": ".py",
      "mimetype": "text/x-python",
      "name": "python",
      "nbconvert_exporter": "python",
      "pygments_lexer": "ipython3",
      "version": "3.9.13"
    },
    "colab": {
      "provenance": []
    }
  },
  "nbformat": 4,
  "nbformat_minor": 5
}