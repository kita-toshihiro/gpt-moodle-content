{
 "cells": [
  {
   "cell_type": "markdown",
   "id": "12c67844-4b4e-4c1f-b7f4-9c2c6f2189c7",
   "metadata": {},
   "source": [
    "## GPTを使用したMoodle小テスト問題（ドラッグ＆ドロップテキスト）の生成\n",
    "\n",
    "以下のセルのコードを上から順番に実行します。出力になにかおかしなところがあれば、そのセルを再度実行（=regenerate）し、その後のセルも再度実行してください。\n",
    "\n",
    "Moodleの問題バンクにインポートできるMoodle XMLファイルが作成されます。ドラッグ＆ドロップテキストは、\n",
    "https://docs.moodle.org/3x/ja/%E3%83%89%E3%83%A9%E3%83%83%E3%82%B0%EF%BC%86%E3%83%89%E3%83%AD%E3%83%83%E3%83%97%E3%83%86%E3%82%AD%E3%82%B9%E3%83%88%E5%95%8F%E9%A1%8C%E3%82%BF%E3%82%A4%E3%83%97\n",
    "のような問題形式です。\n",
    "\n",
    "注1：かなりの確率で正解の指定を間違えるようなので、問題を出題する前にはしっかり確認してください。\n",
    "\n",
    "注2：比較的複雑な処理をGPTにさせているので、不足があったり間違った形式の出力になることも多いです。上からチェックしていって、間違っているセルとそれ以降のセルを、再実行してください。"
   ]
  },
  {
   "cell_type": "markdown",
   "id": "105ddfca-cc03-481e-a6b2-df89670ceec0",
   "metadata": {},
   "source": [
    "（管理メモ）インポートを試す：\n",
    "https://md2.kumamoto-u.ac.jp/question/edit.php?courseid=2"
   ]
  },
  {
   "cell_type": "code",
   "execution_count": 1,
   "id": "583d459d-8cbb-41ed-b6b5-d8566309c1fe",
   "metadata": {},
   "outputs": [],
   "source": [
    "# openai python ライブラリーをインストールしていない場合はこれを実行してください。\n",
    "! pip install openai"
   ]
  },
  {
   "cell_type": "code",
   "execution_count": 2,
   "id": "f3833624-7e3f-4d8d-8131-065a9835c0a2",
   "metadata": {
    "tags": []
   },
   "outputs": [],
   "source": [
    "import openai\n",
    "openai.api_key = input(\"openai API key:\")\n"
   ]
  },
  {
   "cell_type": "code",
   "execution_count": 3,
   "id": "f5155059-29e3-4006-97af-a54b80eb97de",
   "metadata": {},
   "outputs": [],
   "source": [
    "# gpt-3.5-turbo だと、入力＋出力で4096トークン（日本語で4000文字〜5000文字）まで\n",
    "# 以下のようなMoodle小テスト問題生成だと４問くらいが限界\n",
    "# model =\"gpt-3.5-turbo\"\n",
    "# max_tokens=2000\n",
    "\n",
    "# gpt-3.5-turbo-16k だと、入力＋出力で16000トークン（日本語で1.6万文字くらい）まで\n",
    "# 利用料は２倍高い https://openai.com/pricing\n",
    "model=\"gpt-3.5-turbo-16k\"\n",
    "max_tokens=8000\n",
    "\n",
    "# model=\"gpt-4\"\n",
    "# max_tokens=4000"
   ]
  },
  {
   "cell_type": "markdown",
   "id": "2d7c961f-2149-4188-a807-1e386d97c97c",
   "metadata": {
    "tags": []
   },
   "source": [
    "openai.ChatCompletion.createメソッドのパラメータ：\n",
    "- model (必須): 使用するモデルのIDを指定します。例えば、\"gpt-3.5-turbo\"です。\n",
    "- messages (必須): チャット対話のリストを含むオブジェクトです。各メッセージはrole（\"system\"、\"user\"、または\"assistant\"）とcontent（メッセージのテキスト）を含む辞書として表されます。対話の開始時には、システムメッセージが推奨されます。\n",
    "- max_tokens (オプション): 応答の最大トークン数を制限します。\n",
    "- temperature (オプション): モデルの応答の多様性を制御します。値が低いほど、より決定論的な応答が生成されます（0.0に近づくほど決定的になります）、高いほどランダムな応答が生成されます（1.0に近づくほどランダムになります）。\n",
    "- n (オプション): 応答の候補として生成するトークンの数を制御します。値を増やすと、より多くの応答が生成されますが、処理時間が増える可能性があります。\n",
    "- stop (オプション): モデルの生成を停止するためのトリガーテキストを指定します。\n",
    "- logprobs (オプション): 応答のトークンごとの対数確率を返すかどうかを制御します。"
   ]
  },
  {
   "cell_type": "code",
   "execution_count": 4,
   "id": "fbc133b2-f90c-422f-9af0-c02960925827",
   "metadata": {},
   "outputs": [
    {
     "name": "stdout",
     "output_type": "stream",
     "text": [
      "開始時刻 2023-08-27 01:24:59.662141\n"
     ]
    }
   ],
   "source": [
    "import datetime\n",
    "now = datetime.datetime.now()\n",
    "print(\"開始時刻 \" + str(now))"
   ]
  },
  {
   "cell_type": "code",
   "execution_count": 5,
   "id": "40861cbc-f468-4c26-b55d-8c465a3146e7",
   "metadata": {
    "tags": []
   },
   "outputs": [
    {
     "name": "stdout",
     "output_type": "stream",
     "text": [
      "# 改行やタイトルも含む文字数: 1190 \n"
     ]
    }
   ],
   "source": [
    "# 出題したい内容を説明する文章を書く\n",
    "\n",
    "text1 = '''\n",
    "CA社とは一体何なのか？\n",
    "\n",
    "まず、CA社がどのような企業だったのかを振り返ってみる。\n",
    "\n",
    "CA社は2013年12月に米国で設立された企業で、英国の企業であるSCLエレクションズ社が所有している。SCLエレクションズのSCLとは「Storategy Communication Laboratories（戦略的コミュニケーション研究所」のことを指す。ニックスは2003年からSCLに参加しており、2010年にはSCLの主導権を握り、選挙コンサルティング事業を手掛けるようになる。\n",
    "\n",
    "CA社は建前では、有権者のプロファイリング及びマーケティングを提供するデータ分析・コンサルティング会社ということになっていた。ただ、選挙コンサルティングを手掛けるSCLエレクションズの子会社であることを考慮すると、CA社はプロパガンダ企業だという見方もできる。これについてはワイリーも、「CA社はプロパガンダ企業だ」と述べている。\n",
    "\n",
    "そんなCA社とSCLエレクションズ社は、2013年の暮れから2014年初めの時期に、ケンブリッジ大学計量心理学センターの研究に注目していた。その研究は、Facebookの個人情報、特に「いいね」を利用することで、個人の性格特性を予測できるというものだった。\n",
    "\n",
    "そしてSCLエレクションズ社の代表者が、同センターに接触し、研究者の一人であるアレクサンドル・コーガンと協力することになる。コーガンは、Facebookと共同研究していた経験があり、Facebookの利用者及び「友だち」のプロフィールを収集できるアプリケーションに登録していた。ちなみに、このように友だちのデータを取り込む機能は「友だちAPI」と呼ばれている。カイザーによれば、2012年のオバマキャンペーンの際にも「友だちAPI」が利用されていたようだ。\n",
    "\n",
    "そして2014年5月に、コーガンはグローバル・サイエンス・リサーチ（GSR）社を設立する。同年6月には、GSR社とSCLエレクションズ社で合意が結ばれ、Facebookに登録していたアプリケーションを改修し「GSRApp」と名付けた。\n",
    "\n",
    "GSR社とSCLエレクションズ社はGSRAppを用いて、ユーザーデータの収集に努めていたが、2015年5月にFacebookが「友だちAPI」によるデータ収集を禁止したことで、GSRAppのデータ収集は終了した。\n",
    "\n",
    "そして2015年12月、FacebookはコーガンとSCLエレクションズ社に対して、保有しているFacebookデータを全て削除するように要求し、コーガン氏とSCLエレクションズ社はそれを保証した。しかし、他の関係者（具体的にはCA社）がFacebookデータを所有していたことが後に判明する。そしてCA社は、このFacebookデータを利用して、選挙コンサルティングを実施することになる。\n",
    "'''\n",
    "# source  https://acompany.tech/privacytechlab/cambridge-analytica-and-facebook-brexit-privacy-protect/\n",
    "\n",
    "print(\"# 改行やタイトルも含む文字数: %d \" % len(text1))"
   ]
  },
  {
   "cell_type": "code",
   "execution_count": 6,
   "id": "3a8738d7-3b3f-4adc-a8ae-e50e97c40b22",
   "metadata": {
    "tags": []
   },
   "outputs": [
    {
     "name": "stdout",
     "output_type": "stream",
     "text": [
      "# 13.682135 [sec] \n",
      "# 改行やタイトルも含む文字数: 376 \n",
      "要約文:\n",
      "「CA社」とは、2013年に米国で設立された企業であり、英国のSCLエレクションズ社の子会社である。SCLエレクションズ社は選挙コンサルティング事業を手掛ける会社であり、CA社は有権者のプロファイリング及びマーケティングを提供するデータ分析・コンサルティング会社とされている。しかし、実際には「プロパガンダ企業」であるとも見なされている。2014年には、ケンブリッジ大学の研究を利用してFacebookの個人情報を収集し、2015年にはFacebookのデータ収集が禁止されるまで、ユーザーデータの収集を行っていた。しかし、Facebookはコーガン氏とSCLエレクションズ社に対してデータ削除を要求したが、別の関係者であるCA社がデータを所有していたことが判明している。そして、CA社はこのデータを利用して選挙コンサルティングを行っていた。\n"
     ]
    }
   ],
   "source": [
    "prstr1 = \"以下の文章の要約文を300字程度の日本語で作成し、「要約文」というタイトルを付けて出力してください。\\n\\n\" \n",
    "prstr1 += text1\n",
    "\n",
    "import time\n",
    "now0 = time.time()\n",
    "response = openai.ChatCompletion.create(\n",
    "    model = model,\n",
    "    max_tokens = max_tokens,\n",
    "    messages=[\n",
    "        {\"role\": \"user\", \"content\": prstr1},\n",
    "    ],\n",
    ")\n",
    "print(\"# %f [sec] \" % (time.time()-now0))\n",
    "\n",
    "res1 = response.choices[0][\"message\"][\"content\"].strip()\n",
    "print(\"# 改行やタイトルも含む文字数: %d \" % len(res1))\n",
    "print(res1)"
   ]
  },
  {
   "cell_type": "code",
   "execution_count": 7,
   "id": "30294bf4-80fe-4f59-9660-ae7c6bddb68a",
   "metadata": {
    "tags": []
   },
   "outputs": [
    {
     "name": "stdout",
     "output_type": "stream",
     "text": [
      "# 5.003763 [sec] \n",
      "キーワードリスト:\n",
      "- CA社\n",
      "- SCLエレクションズ社\n",
      "- プロパガンダ企業\n",
      "- 有権者のプロファイリング\n",
      "- データ分析・コンサルティング会社\n",
      "- Facebook\n",
      "- 個人情報の収集\n",
      "- ユーザーデータ\n",
      "- 選挙コンサルティング\n",
      "- データ削除\n"
     ]
    }
   ],
   "source": [
    "prstr2 = '''\n",
    "先ほど出力された「要約文」の中の重要なキーワードを4個から8個程度、列挙し、「キーワードリスト」というタイトルを付けて出力してください。\n",
    "ただし、人名や企業名はなるべく対象にしないでください。\n",
    "'''\n",
    "\n",
    "now0 = time.time()\n",
    "response = openai.ChatCompletion.create(\n",
    "    model = model,\n",
    "    max_tokens = max_tokens,\n",
    "    messages=[\n",
    "        {\"role\": \"user\", \"content\": prstr1},\n",
    "        {\"role\": \"assistant\", \"content\": res1},\n",
    "        {\"role\": \"user\", \"content\": prstr2},\n",
    "    ],\n",
    ")\n",
    "print(\"# %f [sec] \" % (time.time()-now0))\n",
    "\n",
    "res2 = response.choices[0][\"message\"][\"content\"].strip()\n",
    "print(res2)"
   ]
  },
  {
   "cell_type": "code",
   "execution_count": 8,
   "id": "3f0772c7-648e-4189-bbc8-ef8c22868d54",
   "metadata": {
    "tags": []
   },
   "outputs": [
    {
     "name": "stdout",
     "output_type": "stream",
     "text": [
      "# 12.704377 [sec] \n",
      "以下の穴埋め問題を作成しました。正解としてのキーワードとダミーのキーワードも併せて示しています。\n",
      "\n",
      "「CA社」とは、2013年に米国で設立された[[1]]であり、英国の[[2]]の子会社である。SCLエレクションズ社は[[3]]を手掛ける会社であり、CA社は有権者のプロファイリング及びマーケティングを提供する[[4]]とされている。しかし、実際には「[[5]]」であるとも見なされている。\n",
      "\n",
      "正解：\n",
      "[[1]]企業\n",
      "[[2]]SCLエレクションズ社\n",
      "[[3]]選挙コンサルティング事業\n",
      "[[4]]データ分析・コンサルティング会社\n",
      "[[5]]プロパガンダ企業\n",
      "\n",
      "ダミーのキーワード：\n",
      "- [[1]]学校\n",
      "- [[2]]ホテル\n",
      "- [[3]]販売店\n",
      "- [[4]]マーケティング会社\n",
      "- [[5]]石油会社\n"
     ]
    }
   ],
   "source": [
    "prstr3 = '''\n",
    "これまで出力した「要約文」を使って、穴埋め問題（Moodle用）を作ってください。\n",
    "「キーワードリスト」の中の各キーワードに相当する箇所を空欄にする形で作成してください。\n",
    "ただし、空欄は [[1]] [[2]] [[3]] のように示してください。\n",
    "また、それぞれの空欄に対応する正解を示し、それぞれの正解に類似したダミーのキーワードも書き添えてください。\n",
    "'''\n",
    "\n",
    "now0 = time.time()\n",
    "response = openai.ChatCompletion.create(\n",
    "    model = model,\n",
    "    max_tokens = max_tokens,\n",
    "    messages=[\n",
    "        {\"role\": \"user\", \"content\": prstr1},\n",
    "        {\"role\": \"assistant\", \"content\": res1},\n",
    "        {\"role\": \"user\", \"content\": prstr2},\n",
    "        {\"role\": \"assistant\", \"content\": res2},\n",
    "        {\"role\": \"user\", \"content\": prstr3},\n",
    "    ],\n",
    ")\n",
    "print(\"# %f [sec] \" % (time.time()-now0))\n",
    "res3 = response.choices[0][\"message\"][\"content\"].strip()\n",
    "print(res3)"
   ]
  },
  {
   "cell_type": "code",
   "execution_count": 9,
   "id": "25caac2e-41ee-4270-adf5-68e03ca1e0a6",
   "metadata": {},
   "outputs": [
    {
     "name": "stdout",
     "output_type": "stream",
     "text": [
      "# 24.843309 [sec] \n",
      "以下が、先ほど作成した問題のMoodle XML形式のコードです。\n",
      "\n",
      "```xml\n",
      "<quiz>\n",
      "  <question type=\"ddwtos\">\n",
      "    <name>\n",
      "      <text>穴埋め問題</text>\n",
      "    </name>\n",
      "    <questiontext format=\"html\">\n",
      "      <text><![CDATA[「CA社」とは、2013年に米国で設立された[[1]]であり、英国の[[2]]の子会社である。SCLエレクションズ社は[[3]]を手掛ける会社であり、CA社は有権者のプロファイリング及びマーケティングを提供する[[4]]とされている。しかし、実際には「[[5]]」であるとも見なされている。]]></text>\n",
      "    </questiontext>\n",
      "    <generalfeedback format=\"html\">\n",
      "      <text></text>\n",
      "    </generalfeedback>\n",
      "    <defaultgrade>1</defaultgrade>\n",
      "    <shuffleanswers>0</shuffleanswers>\n",
      "    <shownumcorrect/>\n",
      "    <dragbox>\n",
      "      <text>企業</text>\n",
      "      <group>1</group>\n",
      "      <infinite/>\n",
      "    </dragbox>\n",
      "    <dragbox>\n",
      "      <text>SCLエレクションズ社</text>\n",
      "      <group>1</group>\n",
      "      <infinite/>\n",
      "    </dragbox>\n",
      "    <dragbox>\n",
      "      <text>選挙コンサルティング事業</text>\n",
      "      <group>1</group>\n",
      "      <infinite/>\n",
      "    </dragbox>\n",
      "    <dragbox>\n",
      "      <text>データ分析・コンサルティング会社</text>\n",
      "      <group>1</group>\n",
      "      <infinite/>\n",
      "    </dragbox>\n",
      "    <dragbox>\n",
      "      <text>プロパガンダ企業</text>\n",
      "      <group>1</group>\n",
      "      <infinite/>\n",
      "    </dragbox>\n",
      "    <dragbox>\n",
      "      <text>学校</text>\n",
      "      <group>1</group>\n",
      "      <infinite/>\n",
      "    </dragbox>\n",
      "    <dragbox>\n",
      "      <text>ホテル</text>\n",
      "      <group>1</group>\n",
      "      <infinite/>\n",
      "    </dragbox>\n",
      "    <dragbox>\n",
      "      <text>販売店</text>\n",
      "      <group>1</group>\n",
      "      <infinite/>\n",
      "    </dragbox>\n",
      "    <dragbox>\n",
      "     <text>マーケティング会社</text>\n",
      "      <group>1</group>\n",
      "      <infinite/>\n",
      "    </dragbox>\n",
      "    <dragbox>\n",
      "      <text>石油会社</text>\n",
      "      <group>1</group>\n",
      "      <infinite/>\n",
      "    </dragbox>\n",
      "  </question>\n",
      "</quiz>\n",
      "```\n",
      "このコードをMoodleにインポートすることで、Drag and drop into text形式の問題が作成されます。\n"
     ]
    }
   ],
   "source": [
    "prstr4 = '''\n",
    "先ほど出力した問題を、文章はそのまま変更せずに Drag and drop into text タイプの Moodle XML 形式に変換してください。\n",
    "答えの候補として、ダミーのキーワードも含めてください。\n",
    "Drag and drop into text タイプの Moodle XML 形式は、例えば以下のようなものです。 \n",
    "\n",
    "<quiz>\n",
    "  <question type=\"ddwtos\">\n",
    "    <name>\n",
    "      <text>問題名</text>\n",
    "    </name>\n",
    "    <questiontext format=\"html\">\n",
    "      <text><![CDATA[ 〇〇では、[[1]]の経緯と[[2]]について、[[3]]と[[4]]が述べられ、[[5]]です。]]></text>\n",
    "    </questiontext>\n",
    "    <generalfeedback format=\"html\">\n",
    "      <text></text>\n",
    "    </generalfeedback>\n",
    "    <defaultgrade>1</defaultgrade>\n",
    "    <shuffleanswers>0</shuffleanswers>\n",
    "    <shownumcorrect/>\n",
    "    <dragbox>\n",
    "      <text>正解1</text>\n",
    "      <group>1</group>\n",
    "      <infinite/>\n",
    "    </dragbox>\n",
    "    <dragbox>\n",
    "      <text>正解2</text>\n",
    "      <group>1</group>\n",
    "      <infinite/>\n",
    "    </dragbox>\n",
    "    <dragbox>\n",
    "      <text>正解3</text>\n",
    "      <group>1</group>\n",
    "      <infinite/>\n",
    "    </dragbox>\n",
    "    <dragbox>\n",
    "      <text>正解4</text>\n",
    "      <group>1</group>\n",
    "      <infinite/>\n",
    "    </dragbox>\n",
    "    <dragbox>\n",
    "      <text>正解5</text>\n",
    "      <group>1</group>\n",
    "      <infinite/>\n",
    "    </dragbox>\n",
    "    <dragbox>\n",
    "      <text>ダミーのキーワード1</text>\n",
    "      <group>1</group>\n",
    "      <infinite/>\n",
    "    </dragbox>\n",
    "    <dragbox>\n",
    "      <text>ダミーのキーワード2</text>\n",
    "      <group>1</group>\n",
    "      <infinite/>\n",
    "    </dragbox>\n",
    "    <dragbox>\n",
    "      <text>ダミーのキーワード3</text>\n",
    "      <group>1</group>\n",
    "      <infinite/>\n",
    "    </dragbox>\n",
    "    <dragbox>\n",
    "      <text>ダミーのキーワード4</text>\n",
    "      <group>1</group>\n",
    "      <infinite/>\n",
    "    </dragbox>\n",
    "    <dragbox>\n",
    "      <text>ダミーのキーワード5</text>\n",
    "      <group>1</group>\n",
    "      <infinite/>\n",
    "    </dragbox>\n",
    "    </question>\n",
    "</quiz>\n",
    "'''\n",
    "\n",
    "now0 = time.time()\n",
    "response = openai.ChatCompletion.create(\n",
    "    model = model,\n",
    "    max_tokens = max_tokens,\n",
    "    messages=[\n",
    "        {\"role\": \"user\", \"content\": prstr3},\n",
    "        {\"role\": \"assistant\", \"content\": res3},\n",
    "        {\"role\": \"user\", \"content\": prstr4},\n",
    "    ],\n",
    ")\n",
    "print(\"# %f [sec] \" % (time.time()-now0))\n",
    "res4 = response.choices[0][\"message\"][\"content\"].strip()\n",
    "print(res4)\n",
    "\n",
    "with open('moodle-quiz-questions02.xml', 'w') as f:\n",
    "    print(res4, file=f)"
   ]
  },
  {
   "cell_type": "code",
   "execution_count": 10,
   "id": "8135d898-e63c-45fc-90b0-b1838fcf746e",
   "metadata": {},
   "outputs": [
    {
     "name": "stdout",
     "output_type": "stream",
     "text": [
      "終了時刻 2023-08-27 01:25:55.965078\n",
      "所要時間 0:00:56.302937\n"
     ]
    }
   ],
   "source": [
    "now2 = datetime.datetime.now()\n",
    "print(\"終了時刻 \" + str(now2))\n",
    "print(\"所要時間 \" + str(now2-now))"
   ]
  }
 ],
 "metadata": {
  "kernelspec": {
   "display_name": "Python 3 (ipykernel)",
   "language": "python",
   "name": "python3"
  },
  "language_info": {
   "codemirror_mode": {
    "name": "ipython",
    "version": 3
   },
   "file_extension": ".py",
   "mimetype": "text/x-python",
   "name": "python",
   "nbconvert_exporter": "python",
   "pygments_lexer": "ipython3",
   "version": "3.9.13"
  }
 },
 "nbformat": 4,
 "nbformat_minor": 5
}
