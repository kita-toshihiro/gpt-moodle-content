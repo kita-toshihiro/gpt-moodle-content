{
  "cells": [
    {
      "cell_type": "markdown",
      "id": "12c67844-4b4e-4c1f-b7f4-9c2c6f2189c7",
      "metadata": {
        "id": "12c67844-4b4e-4c1f-b7f4-9c2c6f2189c7"
      },
      "source": [
        "## GPT-3.5を使用したMoodleクイズ問題の生成\n",
        "\n",
        "以下のセルのコードを上から順番に実行します。出力になにかおかしなところがあれば、そのセルを再度実行（=regenerate）し、その後のセルも再度実行してください。\n",
        "\n",
        "Moodleの問題バンクにインポートできるMoodle XMLファイルが作成されます。"
      ]
    },
    {
      "cell_type": "code",
      "execution_count": 1,
      "id": "583d459d-8cbb-41ed-b6b5-d8566309c1fe",
      "metadata": {
        "colab": {
          "base_uri": "https://localhost:8080/"
        },
        "id": "583d459d-8cbb-41ed-b6b5-d8566309c1fe",
        "outputId": "0e65cc54-f9af-4593-9573-9945c55c1905"
      },
      "outputs": [
        {
          "output_type": "stream",
          "name": "stdout",
          "text": [
            "Collecting openai\n",
            "  Downloading openai-0.27.8-py3-none-any.whl (73 kB)\n",
            "\u001b[?25l     \u001b[90m━━━━━━━━━━━━━━━━━━━━━━━━━━━━━━━━━━━━━━━━\u001b[0m \u001b[32m0.0/73.6 kB\u001b[0m \u001b[31m?\u001b[0m eta \u001b[36m-:--:--\u001b[0m\r\u001b[2K     \u001b[90m━━━━━━━━━━━━━━━━━━━━━━━━━━━━━━━━━━━━━━━━\u001b[0m \u001b[32m73.6/73.6 kB\u001b[0m \u001b[31m6.5 MB/s\u001b[0m eta \u001b[36m0:00:00\u001b[0m\n",
            "\u001b[?25hRequirement already satisfied: requests>=2.20 in /usr/local/lib/python3.10/dist-packages (from openai) (2.27.1)\n",
            "Requirement already satisfied: tqdm in /usr/local/lib/python3.10/dist-packages (from openai) (4.65.0)\n",
            "Requirement already satisfied: aiohttp in /usr/local/lib/python3.10/dist-packages (from openai) (3.8.4)\n",
            "Requirement already satisfied: urllib3<1.27,>=1.21.1 in /usr/local/lib/python3.10/dist-packages (from requests>=2.20->openai) (1.26.16)\n",
            "Requirement already satisfied: certifi>=2017.4.17 in /usr/local/lib/python3.10/dist-packages (from requests>=2.20->openai) (2023.5.7)\n",
            "Requirement already satisfied: charset-normalizer~=2.0.0 in /usr/local/lib/python3.10/dist-packages (from requests>=2.20->openai) (2.0.12)\n",
            "Requirement already satisfied: idna<4,>=2.5 in /usr/local/lib/python3.10/dist-packages (from requests>=2.20->openai) (3.4)\n",
            "Requirement already satisfied: attrs>=17.3.0 in /usr/local/lib/python3.10/dist-packages (from aiohttp->openai) (23.1.0)\n",
            "Requirement already satisfied: multidict<7.0,>=4.5 in /usr/local/lib/python3.10/dist-packages (from aiohttp->openai) (6.0.4)\n",
            "Requirement already satisfied: async-timeout<5.0,>=4.0.0a3 in /usr/local/lib/python3.10/dist-packages (from aiohttp->openai) (4.0.2)\n",
            "Requirement already satisfied: yarl<2.0,>=1.0 in /usr/local/lib/python3.10/dist-packages (from aiohttp->openai) (1.9.2)\n",
            "Requirement already satisfied: frozenlist>=1.1.1 in /usr/local/lib/python3.10/dist-packages (from aiohttp->openai) (1.3.3)\n",
            "Requirement already satisfied: aiosignal>=1.1.2 in /usr/local/lib/python3.10/dist-packages (from aiohttp->openai) (1.3.1)\n",
            "Installing collected packages: openai\n",
            "Successfully installed openai-0.27.8\n"
          ]
        }
      ],
      "source": [
        "# openai python ライブラリーをインストールしていない場合はこれを実行してください。\n",
        "! pip install openai"
      ]
    },
    {
      "cell_type": "code",
      "execution_count": 2,
      "id": "6ba7f222-3712-488e-b5e8-a19c5db1fde8",
      "metadata": {
        "tags": [],
        "colab": {
          "base_uri": "https://localhost:8080/"
        },
        "id": "6ba7f222-3712-488e-b5e8-a19c5db1fde8",
        "outputId": "06856664-c31d-473c-cb64-fb93a99e7941"
      },
      "outputs": [
        {
          "name": "stdout",
          "output_type": "stream",
          "text": [
            "何についての問題を生成したい？（最後にエンターキーを）ブラックショールズ方程式\n"
          ]
        }
      ],
      "source": [
        "data1 = input(\"何についての問題を生成したい？（最後にエンターキーを）\")"
      ]
    },
    {
      "cell_type": "code",
      "execution_count": null,
      "id": "f3833624-7e3f-4d8d-8131-065a9835c0a2",
      "metadata": {
        "id": "f3833624-7e3f-4d8d-8131-065a9835c0a2"
      },
      "outputs": [],
      "source": [
        "import openai\n",
        "openai.api_key = input(\"openai API key:\")\n",
        "model =\"gpt-3.5-turbo-0613\"\n",
        "# model =\"gpt-3.5-turbo\""
      ]
    },
    {
      "cell_type": "code",
      "execution_count": 4,
      "id": "40861cbc-f468-4c26-b55d-8c465a3146e7",
      "metadata": {
        "tags": [],
        "colab": {
          "base_uri": "https://localhost:8080/"
        },
        "id": "40861cbc-f468-4c26-b55d-8c465a3146e7",
        "outputId": "4213b2eb-3a89-4c99-cf51-064e310b8d26"
      },
      "outputs": [
        {
          "output_type": "stream",
          "name": "stdout",
          "text": [
            "1. ブラックショールズ方程式に関する以下の選択肢のうち、正しいものはどれですか？\n",
            "a) 株価の変動を予測するために使われる\n",
            "b) オプション価格を計算するのに使われる\n",
            "c) デリバティブ取引のリスクを測るために使われる\n",
            "d) 株式市場のトレンドを予測するために使われる\n",
            "e) 為替相場の変動を予測するために使われる\n",
            "\n",
            "正解: b) オプション価格を計算するのに使われる\n",
            "\n",
            "2. ブラックショールズ方程式は、以下の選択肢のうちどの分野で広く利用されていますか？\n",
            "a) 経済学\n",
            "b) 物理学\n",
            "c) 数学\n",
            "d) 科学技術\n",
            "e) 化学\n",
            "\n",
            "正解: a) 経済学\n"
          ]
        }
      ],
      "source": [
        "prstr1 = '''\n",
        "についての選択問題を2個作成してください。以下の条件を満たしてください。\n",
        "・選択肢は5個\n",
        "・問題文は丁寧な日本語（ですます調）で書かれている\n",
        "・選択肢は丁寧ではない日本語（体言止めなど）や単語だけで書かれている\n",
        "・どの選択肢が正解であるかが示されている\n",
        "'''\n",
        "\n",
        "prstr1 += data1\n",
        "response = openai.ChatCompletion.create(\n",
        "    model = model,\n",
        "    messages=[\n",
        "        {\"role\": \"user\", \"content\": prstr1},\n",
        "    ],\n",
        ")\n",
        "res1 = response.choices[0][\"message\"][\"content\"].strip()\n",
        "print(res1)"
      ]
    },
    {
      "cell_type": "code",
      "execution_count": 5,
      "id": "30294bf4-80fe-4f59-9660-ae7c6bddb68a",
      "metadata": {
        "colab": {
          "base_uri": "https://localhost:8080/"
        },
        "id": "30294bf4-80fe-4f59-9660-ae7c6bddb68a",
        "outputId": "5185b554-e9eb-43ce-d92a-307c9670a5eb"
      },
      "outputs": [
        {
          "output_type": "stream",
          "name": "stdout",
          "text": [
            "<quiz>\n",
            "  <question type=\"multichoice\">\n",
            "    <name>\n",
            "      <text>ブラックショールズ方程式に関する問題1</text>\n",
            "    </name>\n",
            "    <questiontext format=\"html\">\n",
            "      <text><![CDATA[ブラックショールズ方程式に関する以下の選択肢のうち、正しいものはどれですか？]]></text>\n",
            "    </questiontext>\n",
            "    <shuffleanswers>true</shuffleanswers>\n",
            "    <answer fraction=\"0\">\n",
            "      <text>株価の変動を予測するために使われる</text>\n",
            "    </answer>\n",
            "    <answer fraction=\"100\">\n",
            "      <text>オプション価格を計算するのに使われる</text>\n",
            "    </answer>\n",
            "    <answer fraction=\"0\">\n",
            "      <text>デリバティブ取引のリスクを測るために使われる</text>\n",
            "    </answer>\n",
            "    <answer fraction=\"0\">\n",
            "      <text>株式市場のトレンドを予測するために使われる</text>\n",
            "    </answer>\n",
            "    <answer fraction=\"0\">\n",
            "      <text>為替相場の変動を予測するために使われる</text>\n",
            "    </answer>\n",
            "    <generalfeedback>\n",
            "      <text><![CDATA[ブラックショールズ方程式はオプション価格を計算するために使われます。]]></text>\n",
            "    </generalfeedback>\n",
            "  </question>\n",
            "  \n",
            "  <question type=\"multichoice\">\n",
            "    <name>\n",
            "      <text>ブラックショールズ方程式に関する問題2</text>\n",
            "    </name>\n",
            "    <questiontext format=\"html\">\n",
            "      <text><![CDATA[ブラックショールズ方程式は以下の選択肢のうちどの分野で広く利用されていますか？]]></text>\n",
            "    </questiontext>\n",
            "    <shuffleanswers>true</shuffleanswers>\n",
            "    <answer fraction=\"0\">\n",
            "      <text>経済学</text>\n",
            "    </answer>\n",
            "    <answer fraction=\"0\">\n",
            "      <text>物理学</text>\n",
            "    </answer>\n",
            "    <answer fraction=\"0\">\n",
            "      <text>数学</text>\n",
            "    </answer>\n",
            "    <answer fraction=\"0\">\n",
            "      <text>科学技術</text>\n",
            "    </answer>\n",
            "    <answer fraction=\"100\">\n",
            "      <text>経済学</text>\n",
            "    </answer>\n",
            "    <generalfeedback>\n",
            "      <text><![CDATA[ブラックショールズ方程式は経済学の分野で広く利用されています。]]></text>\n",
            "    </generalfeedback>\n",
            "  </question>\n",
            "</quiz>\n"
          ]
        }
      ],
      "source": [
        "prstr2 = '''\n",
        "今のすべての問題を一連のデータとして（問題ごとに分けずに） 以下のような Moodle XML 形式で出力してください。選択肢の句点は削除してください。\n",
        "\n",
        "  <question type=\"multichoice\">\n",
        "    <name>\n",
        "      <text>問いの要約</text>\n",
        "    </name>\n",
        "    <questiontext format=\"html\">\n",
        "      <text><![CDATA[問いの文章をここに書く。]]></text>\n",
        "    </questiontext>\n",
        "    <shuffleanswers>true</shuffleanswers>\n",
        "    <answer fraction=\"0\">\n",
        "      <text>不正解1</text>\n",
        "    </answer>\n",
        "    <answer fraction=\"100\">\n",
        "      <text>正解</text>\n",
        "    </answer>\n",
        "    <answer fraction=\"0\">\n",
        "      <text>不正解2</text>\n",
        "    </answer>\n",
        "    <answer fraction=\"0\">\n",
        "      <text>不正解3</text>\n",
        "    </answer>\n",
        "    <generalfeedback>\n",
        "      <text><![CDATA[全般に対するフィードバック]]></text>\n",
        "    </generalfeedback>\n",
        "  </question>\n",
        "'''\n",
        "\n",
        "response = openai.ChatCompletion.create(\n",
        "    model = model,\n",
        "    messages=[\n",
        "        {\"role\": \"user\", \"content\": prstr1},\n",
        "        {\"role\": \"assistant\", \"content\": res1},\n",
        "        {\"role\": \"user\", \"content\": prstr2},\n",
        "    ],\n",
        ")\n",
        "\n",
        "res2 = response.choices[0][\"message\"][\"content\"].strip()\n",
        "print(res2)"
      ]
    },
    {
      "cell_type": "code",
      "execution_count": 6,
      "id": "3f0772c7-648e-4189-bbc8-ef8c22868d54",
      "metadata": {
        "tags": [],
        "colab": {
          "base_uri": "https://localhost:8080/"
        },
        "id": "3f0772c7-648e-4189-bbc8-ef8c22868d54",
        "outputId": "a93814c8-18d8-4183-ab2d-1ab959532588"
      },
      "outputs": [
        {
          "output_type": "stream",
          "name": "stdout",
          "text": [
            "<quiz>\n",
            "  <question type=\"multichoice\">\n",
            "    <name>\n",
            "      <text>ブラックショールズ方程式に関する問題1</text>\n",
            "    </name>\n",
            "    <questiontext format=\"html\">\n",
            "      <text><![CDATA[ブラックショールズ方程式に関する以下の選択肢のうち、正しいものはどれですか？]]></text>\n",
            "    </questiontext>\n",
            "    <shuffleanswers>true</shuffleanswers>\n",
            "    <answer fraction=\"0\">\n",
            "      <text>株価の変動を予測するために使われる</text>\n",
            "    </answer>\n",
            "    <answer fraction=\"100\">\n",
            "      <text>オプション価格を計算するのに使われる</text>\n",
            "    </answer>\n",
            "    <answer fraction=\"0\">\n",
            "      <text>デリバティブ取引のリスクを測るために使われる</text>\n",
            "    </answer>\n",
            "    <answer fraction=\"0\">\n",
            "      <text>株式市場のトレンドを予測するために使われる</text>\n",
            "    </answer>\n",
            "    <answer fraction=\"0\">\n",
            "      <text>為替相場の変動を予測するために使われる</text>\n",
            "    </answer>\n",
            "    <generalfeedback>\n",
            "      <text><![CDATA[ブラックショールズ方程式はオプション価格を計算するために使われます。参考: <a href=\"https://ja.wikipedia.org/wiki/%E3%83%96%E3%83%A9%E3%83%83%E3%82%AF%E3%82%B7%E3%83%A7%E3%83%BC%E3%83%AB%E3%82%BA%E6%96%B9%E7%A8%8B%E5%BC%8F\" target=\"_BLANK\">Wikipedia</a>]]></text>\n",
            "    </generalfeedback>\n",
            "  </question>\n",
            "  \n",
            "  <question type=\"multichoice\">\n",
            "    <name>\n",
            "      <text>ブラックショールズ方程式に関する問題2</text>\n",
            "    </name>\n",
            "    <questiontext format=\"html\">\n",
            "      <text><![CDATA[ブラックショールズ方程式は以下の選択肢のうちどの分野で広く利用されていますか？]]></text>\n",
            "    </questiontext>\n",
            "    <shuffleanswers>true</shuffleanswers>\n",
            "    <answer fraction=\"0\">\n",
            "      <text>経済学</text>\n",
            "    </answer>\n",
            "    <answer fraction=\"0\">\n",
            "      <text>物理学</text>\n",
            "    </answer>\n",
            "    <answer fraction=\"0\">\n",
            "      <text>数学</text>\n",
            "    </answer>\n",
            "    <answer fraction=\"0\">\n",
            "      <text>科学技術</text>\n",
            "    </answer>\n",
            "    <answer fraction=\"100\">\n",
            "      <text>金融工学</text>\n",
            "    </answer>\n",
            "    <generalfeedback>\n",
            "      <text><![CDATA[ブラックショールズ方程式は金融工学の分野で広く利用されています。参考: <a href=\"https://ja.wikipedia.org/wiki/%E3%83%96%E3%83%A9%E3%83%83%E3%82%AF%E3%82%B7%E3%83%A7%E3%83%BC%E3%83%AB%E3%82%BA%E6%96%B9%E7%A8%8B%E5%BC%8F\" target=\"_BLANK\">Wikipedia</a>]]></text>\n",
            "    </generalfeedback>\n",
            "  </question>\n",
            "</quiz>\n"
          ]
        }
      ],
      "source": [
        "prstr3 = '''\n",
        "以下のように直してください。\n",
        "・<quiz> から開始する\n",
        "・選択肢番号があれば削除\n",
        "・正解の選択肢の配点は 100 になっている\n",
        "・問題名（<name><text> と </text></name> の間）は、問いの文章を10文字程度で要約したもの\n",
        "・各問題に対して1つだけ、</questiontext> の後に、200文字程度の「全般的なフィードバック」を <generalfeedback><text> と </text></generalfeedback> で囲って書く\n",
        "・「全般的なフィードバック」には、参考となるWikipediaページなどのリンクが target=_BLANK の指定付きで含まれている\n",
        "・各問題に対して <shuffleanswers>true</shuffleanswers> を指定する\n",
        "・[CDATA[ に対応する ]] がちゃんと書かれている\n",
        "'''\n",
        "\n",
        "response = openai.ChatCompletion.create(\n",
        "    model = model,\n",
        "    messages=[\n",
        "        {\"role\": \"user\", \"content\": prstr2},\n",
        "        {\"role\": \"assistant\", \"content\": res2},\n",
        "        {\"role\": \"user\", \"content\": prstr3},\n",
        "    ],\n",
        ")\n",
        "res3 = response.choices[0][\"message\"][\"content\"].strip()\n",
        "print(res3)\n",
        "# replace(\"^'''xml\",\"\",res3)\n",
        "# replace(\"'''$\",\"\",res3)\n",
        "\n",
        "with open('moodle-quiz-questions01.xml', 'w') as f:\n",
        "    print(res3, file=f)"
      ]
    },
    {
      "cell_type": "code",
      "execution_count": 6,
      "id": "200398d2-c847-4931-8c8d-4943a3c41fe6",
      "metadata": {
        "id": "200398d2-c847-4931-8c8d-4943a3c41fe6"
      },
      "outputs": [],
      "source": []
    }
  ],
  "metadata": {
    "kernelspec": {
      "display_name": "Python 3 (ipykernel)",
      "language": "python",
      "name": "python3"
    },
    "language_info": {
      "codemirror_mode": {
        "name": "ipython",
        "version": 3
      },
      "file_extension": ".py",
      "mimetype": "text/x-python",
      "name": "python",
      "nbconvert_exporter": "python",
      "pygments_lexer": "ipython3",
      "version": "3.9.13"
    },
    "colab": {
      "provenance": []
    }
  },
  "nbformat": 4,
  "nbformat_minor": 5
}